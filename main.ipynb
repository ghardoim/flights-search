{
 "cells": [
  {
   "cell_type": "code",
   "execution_count": 1,
   "metadata": {},
   "outputs": [],
   "source": [
    "from selenium.webdriver.support import expected_conditions as EC\n",
    "from selenium.webdriver.remote.webelement import WebElement\n",
    "from selenium.webdriver.support.wait import WebDriverWait\n",
    "from selenium.webdriver import Edge, EdgeOptions\n",
    "from selenium.webdriver.common.by import By\n",
    "\n",
    "from datetime import timedelta as td\n",
    "from datetime import datetime as dt\n",
    "from time import sleep\n",
    "from os import getcwd\n",
    "\n",
    "import pandas as pd\n",
    "\n",
    "pd.options.display.max_rows = None"
   ]
  },
  {
   "cell_type": "code",
   "execution_count": 9,
   "metadata": {},
   "outputs": [],
   "source": [
    "def scraper(browser, departures:list, arrivals:list) -> pd.DataFrame:\n",
    "    flights = pd.DataFrame()\n",
    "\n",
    "    for _from in departures:\n",
    "        for _to in arrivals:\n",
    "\n",
    "            tempdf = browser.get_flights(_from, _to)\n",
    "            tempdf[[\"from\", \"to\"]] = _from, _to\n",
    "\n",
    "            flights = pd.concat([flights, tempdf])\n",
    "    return flights\n",
    "\n",
    "def handle_with(flights:pd.DataFrame, columns:list, hotel_prices:list=[\"hotels_price\"]) -> pd.DataFrame:\n",
    "    flights.rename(columns={n: name for n, name in enumerate(columns)}, inplace=True)\n",
    "\n",
    "    if hotel_prices:\n",
    "        flights.drop(flights[(flights[\"where\"] == \"\") | flights.hotels_price.isna()].index, inplace=True)\n",
    "        flights = flights[~flights.hotels_price.str.contains(\"h\")]\n",
    "\n",
    "    for column in [\"how_much\"] + hotel_prices:\n",
    "        flights.drop(flights[flights[column].isna()].index, inplace=True)\n",
    "        flights.loc[:, column] = flights[column].apply(lambda p: p.replace(\"R$\", \"\").replace(\",\", \"\") if p else p).astype(int)\n",
    "\n",
    "    return flights.sort_values(\"how_much\").reset_index(drop=True).drop_duplicates()"
   ]
  },
  {
   "cell_type": "code",
   "execution_count": 3,
   "metadata": {},
   "outputs": [],
   "source": [
    "class Flights(Edge):\n",
    "    def __init__(self):\n",
    "        _options = EdgeOptions()\n",
    "        _options.add_argument(\"-inprivate\")\n",
    "\n",
    "        super().__init__(options=_options)\n",
    "        self.maximize_window()\n",
    "\n",
    "        self.webwait = WebDriverWait(self, 20)\n",
    "        self.get(\"https://www.google.com/travel/explore\")\n",
    "\n",
    "    def findby_txt(self, tag:str, text:str) -> WebElement:\n",
    "        return self.find_element(By.XPATH, f\"//{tag}[contains(text(), '{text}')]\")\n",
    "\n",
    "    def findby_arialabel(self, tag:str, text:str) -> WebElement:\n",
    "        return self.webwait.until(EC.element_to_be_clickable((By.XPATH, f\"//{tag}[@aria-label='{text}']\")))\n",
    "\n",
    "    def js_click(self, web_element:WebElement) -> None:\n",
    "        self.execute_script(\"arguments[0].click()\", web_element)\n",
    "\n",
    "    def wait(self) -> None:\n",
    "        sleep(2)\n",
    "\n",
    "        while self.find_element(By.XPATH, \"//div[@aria-label='Loading results']\").is_displayed():\n",
    "            sleep(1)\n",
    "\n",
    "    def print(self, imgname:str) -> None:\n",
    "        imgname = f\"{getcwd()}/imgs/{imgname}.png\"\n",
    "        self.find_element(By.XPATH, \"//div[@role='region']\").screenshot(imgname)\n",
    "\n",
    "    def zoom(self, direction:str=\"in\", times:int=1) -> None:\n",
    "\n",
    "        [self.find_element(By.XPATH, f\"//button[@aria-label='Zoom {direction}']\").click() for _ in range(times)]\n",
    "        self.wait()\n",
    "\n",
    "    def get_flights(self, _from:str, _to:str) -> pd.DataFrame:\n",
    "        for w, where in [(\"from\", _from), (\"to\", _to)]:\n",
    "            place = self.findby_arialabel(\"input\", f\"Where {w}?\")\n",
    "\n",
    "            self.wait()\n",
    "            place.clear()\n",
    "            place.send_keys(where)\n",
    "            self.findby_arialabel(\"li\", where).click()\n",
    "\n",
    "        self.wait()\n",
    "        self.zoom()\n",
    "        try:\n",
    "            self.print(f\"{_from} __ {_to} __\")\n",
    "        except: pass\n",
    "\n",
    "        return pd.DataFrame([ flight.text.encode(\"ascii\", \"replace\").decode(\"ascii\").split(\"\\n\") for flight in\n",
    "            self.webwait.until(EC.element_to_be_clickable((By.TAG_NAME, \"ol\"))).find_elements(By.TAG_NAME, \"li\") ])\n",
    "\n",
    "    def show_calendar(self, kind:str) -> None:\n",
    "        self.js_click(self.find_element(By.XPATH, \"//div[@data-min='0']\"))\n",
    "        self.js_click(self.findby_txt(\"span\", kind))\n",
    "        self.wait()\n",
    "\n",
    "    def __del__(self):\n",
    "        self.close()\n",
    "        self.quit()\n",
    "\n",
    "browser = Flights()"
   ]
  },
  {
   "cell_type": "code",
   "execution_count": 4,
   "metadata": {},
   "outputs": [],
   "source": [
    "departures = [\"Rio de Janeiro\", \"São Paulo\"]\n",
    "arrivals = [\"Europe\", \"Southern Europe\", \"Northern Europe\", \"Western Europe\", \"Eastern Europe\"]"
   ]
  },
  {
   "cell_type": "markdown",
   "metadata": {},
   "source": [
    "##### Round Trip | Flexible Dates"
   ]
  },
  {
   "cell_type": "code",
   "execution_count": 21,
   "metadata": {},
   "outputs": [],
   "source": [
    "allflights = pd.DataFrame()\n",
    "\n",
    "for date in [\"1 week\", \"2 weeks\", \"All\"]:\n",
    "    browser.show_calendar(\"Flexible\")\n",
    "\n",
    "    for text in [date, \"May\", \"Done\"]:\n",
    "        browser.js_click(browser.findby_txt(\"span\", text))\n",
    "\n",
    "    flights = handle_with(scraper(browser, departures, arrivals),\n",
    "        [\"where\", \"when\", \"how_much\", \"stops\", \"flight_time\", \"hotels_price\", \"need_car\"])\n",
    "\n",
    "    flights[[\"when\", \"until\"]] = flights.when.apply(lambda dt: pd.Series(dt.split(\"???\")))\n",
    "    allflights = pd.concat([allflights, flights])"
   ]
  },
  {
   "cell_type": "markdown",
   "metadata": {},
   "source": [
    "##### Round Trip | Specific Dates"
   ]
  },
  {
   "cell_type": "code",
   "execution_count": null,
   "metadata": {},
   "outputs": [],
   "source": [
    "allflights = pd.DataFrame()\n",
    "\n",
    "for date in [\"2025-04-18\", \"2025-04-19\"]:\n",
    "    for days in [7, 14]:\n",
    "\n",
    "        dt_return = (dt.strptime(dt_departure := date, r\"%Y-%m-%d\") + td(days)).strftime(r\"%Y-%m-%d\")\n",
    "        browser.show_calendar(\"Specific\")\n",
    "\n",
    "        for flight_date in [dt_departure, dt_return]:\n",
    "            browser.find_element(By.XPATH, f'//div[@data-iso=\"{flight_date}\"]').click()\n",
    "\n",
    "        browser.js_click(browser.findby_txt(\"span\", \"Done\"))\n",
    "        browser.wait()\n",
    "\n",
    "        flights = handle_with(scraper(browser, departures, arrivals),\n",
    "            [\"where\", \"how_much\", \"stops\", \"flight_time\", \"hotels_price\", \"need_car\"])\n",
    "\n",
    "        flights.loc[:, [\"when\", \"until\"]] = dt_departure, dt_return\n",
    "        allflights = pd.concat([allflights, flights])"
   ]
  },
  {
   "cell_type": "code",
   "execution_count": 5,
   "metadata": {},
   "outputs": [],
   "source": [
    "for _type in [\"Round trip\", \"One way\"]:\n",
    "    browser.js_click(browser.findby_txt(\"span\", _type))\n",
    "\n",
    "browser.wait()"
   ]
  },
  {
   "cell_type": "markdown",
   "metadata": {},
   "source": [
    "##### One Way | Flexible Dates"
   ]
  },
  {
   "cell_type": "code",
   "execution_count": 6,
   "metadata": {},
   "outputs": [],
   "source": [
    "browser.show_calendar(\"Flexible\")\n",
    "\n",
    "for text in [\"May\", \"Done\"]:\n",
    "    browser.js_click(browser.findby_txt(\"span\", text))\n",
    "\n",
    "flights = handle_with(scraper(browser, departures, arrivals),\n",
    "    [\"where\", \"when\", \"how_much\", \"stops\", \"flight_time\", \"need_car\"], [])"
   ]
  },
  {
   "cell_type": "markdown",
   "metadata": {},
   "source": [
    "##### One Way | Specific Dates"
   ]
  },
  {
   "cell_type": "code",
   "execution_count": null,
   "metadata": {},
   "outputs": [],
   "source": [
    "allflights = pd.DataFrame()\n",
    "\n",
    "for date in [(dt.strptime(\"2025-05-22\", r\"%Y-%m-%d\") + td(7)).strftime(r\"%Y-%m-%d\") for _ in range(1)]:\n",
    "    browser.show_calendar(\"Specific\")\n",
    "\n",
    "    browser.find_element(By.XPATH, f'//div[@data-iso=\"{date}\"]').click()\n",
    "    browser.js_click(browser.findby_txt(\"span\", \"Done\"))\n",
    "    browser.wait()\n",
    "\n",
    "    flights = scraper(browser, departures, arrivals)\n",
    "    flights.loc[:, [\"when\"]] = date\n",
    "\n",
    "    allflights = pd.concat([allflights, flights])\n",
    "allflights = handle_with(flights, [\"where\", \"how_much\", \"stops\", \"flight_time\", \"need_car\"], [])"
   ]
  },
  {
   "cell_type": "code",
   "execution_count": 18,
   "metadata": {},
   "outputs": [],
   "source": [
    "browser.__del__()"
   ]
  }
 ],
 "metadata": {
  "kernelspec": {
   "display_name": ".venv",
   "language": "python",
   "name": "python3"
  },
  "language_info": {
   "codemirror_mode": {
    "name": "ipython",
    "version": 3
   },
   "file_extension": ".py",
   "mimetype": "text/x-python",
   "name": "python",
   "nbconvert_exporter": "python",
   "pygments_lexer": "ipython3",
   "version": "3.12.6"
  }
 },
 "nbformat": 4,
 "nbformat_minor": 2
}
